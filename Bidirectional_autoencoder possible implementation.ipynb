{
 "cells": [
  {
   "cell_type": "code",
   "execution_count": 1,
   "metadata": {},
   "outputs": [],
   "source": [
    "from tensorflow.keras.layers import LSTM,Bidirectional,Input,Concatenate,Dense\n",
    "from tensorflow.keras.models import Model as Model_\n",
    "\n",
    "\n",
    "class GloGen_Bidirectional_RNN_Encoder(Model_):\n",
    "    def __init__(self, num_recurrent_neurons=200):\n",
    "        super(GloGen_Bidirectional_RNN_Encoder, self).__init__()\n",
    "        self.encoder = Bidirectional(LSTM(num_recurrent_neurons, return_state=True))\n",
    "        \n",
    "\n",
    "    def call(self, input_x):\n",
    "        self.encoder_outputs, self.forward_h, self.forward_c, self.backward_h, self.backward_c = self.encoder(input_x)\n",
    "        hidden_state = Concatenate()([self.forward_h, self.backward_h])\n",
    "        cell_state = Concatenate()([self.forward_c, self.backward_c])\n",
    "        return [hidden_state,cell_state]\n",
    "    \n",
    "class GloGen_Bidirectional_RNN_Decoder(Model_):\n",
    "    def __init__(self, num_recurrent_neurons=200):\n",
    "        super(GloGen_Bidirectional_RNN_Decoder, self).__init__()\n",
    "        self.decoder = LSTM(num_recurrent_neurons*2, return_sequences=True, return_state=True)\n",
    "        self.decoder_input=Input(shape=(None, num_recurrent_neurons))\n",
    "        \n",
    "\n",
    "    def call(self, encoder_hidden_state,num_recurrent_neurons=200):\n",
    "        self.decoder_outputs, _, _ = self.decoder(self.decoder_input,encoder_hidden_state)\n",
    "        self.decoder_dense = Dense(num_recurrent_neurons, activation='softmax')\n",
    "        decoder_outputs = self.decoder_dense(self.decoder_outputs)\n",
    "        return decoder_outputs"
   ]
  },
  {
   "cell_type": "code",
   "execution_count": 2,
   "metadata": {},
   "outputs": [
    {
     "data": {
      "text/plain": [
       "(10, 10, 64)"
      ]
     },
     "execution_count": 2,
     "metadata": {},
     "output_type": "execute_result"
    }
   ],
   "source": [
    "import pandas as pd\n",
    "import numpy as np\n",
    "direction_csv_file = pd.read_csv(\"Directions 1.54138969.csv\", header=None)\n",
    "direction_data_array = np.asarray(direction_csv_file)\n",
    "direction_data_array = np.reshape(direction_data_array[:100], (10, 10, 64))\n",
    "direction_data_array.shape"
   ]
  },
  {
   "cell_type": "code",
   "execution_count": 3,
   "metadata": {},
   "outputs": [
    {
     "name": "stdout",
     "output_type": "stream",
     "text": [
      "WARNING:tensorflow:Layer glo_gen__bidirectional_rnn__encoder is casting an input tensor from dtype float64 to the layer's dtype of float32, which is new behavior in TensorFlow 2.  The layer has dtype float32 because its dtype defaults to floatx.\n",
      "\n",
      "If you intended to run this layer in float32, you can safely ignore this warning. If in doubt, this warning is likely only an issue if you are porting a TensorFlow 1.X model to TensorFlow 2.\n",
      "\n",
      "To change all layers to have dtype float64 by default, call `tf.keras.backend.set_floatx('float64')`. To change just this layer, pass dtype='float64' to the layer constructor. If you are the author of this layer, you can disable autocasting by passing autocast=False to the base Layer constructor.\n",
      "\n"
     ]
    },
    {
     "data": {
      "text/plain": [
       "[<tf.Tensor: shape=(10, 400), dtype=float32, numpy=\n",
       " array([[-0.,  0.,  0., ...,  1.,  0.,  1.],\n",
       "        [-0.,  0.,  0., ...,  1.,  0.,  1.],\n",
       "        [-0.,  0.,  0., ...,  1.,  0.,  1.],\n",
       "        ...,\n",
       "        [-0., -0.,  0., ...,  1.,  0.,  1.],\n",
       "        [-0., -0.,  0., ...,  1.,  0.,  1.],\n",
       "        [-0., -0.,  0., ...,  1.,  0.,  1.]], dtype=float32)>,\n",
       " <tf.Tensor: shape=(10, 400), dtype=float32, numpy=\n",
       " array([[-1.0000000e+00,  0.0000000e+00,  1.9947275e-07, ...,\n",
       "          1.0000000e+01,  9.9715602e-01,  1.0000000e+01],\n",
       "        [-1.0000000e+00,  0.0000000e+00,  2.4670990e-07, ...,\n",
       "          1.0000000e+01,  9.9875081e-01,  1.0000000e+01],\n",
       "        [-1.0000000e+00,  0.0000000e+00,  1.2520138e-07, ...,\n",
       "          1.0000000e+01,  9.9890757e-01,  1.0000000e+01],\n",
       "        ...,\n",
       "        [-1.0000000e+00, -8.3269563e-35,  2.5784844e-10, ...,\n",
       "          1.0000000e+01,  3.9747858e-05,  1.0000000e+01],\n",
       "        [-1.0000000e+00, -3.3250445e-35,  3.3862424e-10, ...,\n",
       "          1.0000000e+01,  6.3676011e-06,  1.0000000e+01],\n",
       "        [-1.0000000e+00, -1.6097790e-35,  2.6294467e-10, ...,\n",
       "          1.0000000e+01,  9.8373789e-07,  1.0000000e+01]], dtype=float32)>]"
      ]
     },
     "execution_count": 3,
     "metadata": {},
     "output_type": "execute_result"
    }
   ],
   "source": [
    "glogen_bidirectional_RNN_Encoder = GloGen_Bidirectional_RNN_Encoder()\n",
    "output_encoder = glogen_bidirectional_RNN_Encoder(direction_data_array)\n",
    "output_encoder"
   ]
  },
  {
   "cell_type": "code",
   "execution_count": 4,
   "metadata": {},
   "outputs": [
    {
     "name": "stdout",
     "output_type": "stream",
     "text": [
      "(10, None, 200)\n"
     ]
    },
    {
     "data": {
      "text/plain": [
       "<tf.Tensor 'dense/truediv:0' shape=(10, None, 200) dtype=float32>"
      ]
     },
     "execution_count": 4,
     "metadata": {},
     "output_type": "execute_result"
    }
   ],
   "source": [
    "glogen_decoder = GloGen_Bidirectional_RNN_Decoder()\n",
    "glogen_sparse_output_predictions = glogen_decoder(output_encoder)\n",
    "print(glogen_sparse_output_predictions.shape)\n",
    "glogen_sparse_output_predictions"
   ]
  },
  {
   "cell_type": "code",
   "execution_count": null,
   "metadata": {},
   "outputs": [],
   "source": []
  }
 ],
 "metadata": {
  "kernelspec": {
   "display_name": "Python 3",
   "language": "python",
   "name": "python3"
  },
  "language_info": {
   "codemirror_mode": {
    "name": "ipython",
    "version": 3
   },
   "file_extension": ".py",
   "mimetype": "text/x-python",
   "name": "python",
   "nbconvert_exporter": "python",
   "pygments_lexer": "ipython3",
   "version": "3.7.4"
  }
 },
 "nbformat": 4,
 "nbformat_minor": 5
}
